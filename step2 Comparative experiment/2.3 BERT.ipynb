{
 "cells": [
  {
   "cell_type": "code",
   "execution_count": 1,
   "metadata": {},
   "outputs": [
    {
     "name": "stderr",
     "output_type": "stream",
     "text": [
      "/home/luyang/anaconda3/envs/llm/lib/python3.9/site-packages/tqdm/auto.py:21: TqdmWarning: IProgress not found. Please update jupyter and ipywidgets. See https://ipywidgets.readthedocs.io/en/stable/user_install.html\n",
      "  from .autonotebook import tqdm as notebook_tqdm\n"
     ]
    }
   ],
   "source": [
    "import torch\n",
    "import torch.nn as nn\n",
    "import random\n",
    "import pandas as pd\n",
    "import numpy as np\n",
    "from tqdm import tqdm\n",
    "import copy\n",
    "import pickle\n",
    "from collections import Counter\n",
    "from torch.utils.data import Dataset, DataLoader, random_split, Subset\n",
    "from transformers import BertModel, BertConfig\n",
    "from sklearn.metrics import f1_score, precision_score, recall_score, accuracy_score\n",
    "from sklearn.model_selection import train_test_split\n",
    "from sklearn.preprocessing import StandardScaler\n",
    "from torch.optim.lr_scheduler import ReduceLROnPlateau"
   ]
  },
  {
   "cell_type": "code",
   "execution_count": 2,
   "metadata": {},
   "outputs": [],
   "source": [
    "\n",
    "def set_seed(seed):\n",
    "    random.seed(seed)  # Python 的随机模块\n",
    "    np.random.seed(seed)  # NumPy 的随机模块\n",
    "    torch.manual_seed(seed)  # PyTorch CPU 的随机模块\n",
    "    torch.cuda.manual_seed(seed)  # PyTorch GPU 的随机模块\n",
    "    torch.cuda.manual_seed_all(seed)  # 多GPU时\n",
    "    torch.backends.cudnn.deterministic = True  # 让CUDNN使用确定性算法\n",
    "    torch.backends.cudnn.benchmark = False  # 禁用自动寻找最佳卷积算法\n",
    "set_seed(42)"
   ]
  },
  {
   "cell_type": "code",
   "execution_count": 3,
   "metadata": {},
   "outputs": [],
   "source": [
    "class EarlyStopping:\n",
    "    def __init__(self, patience=5, delta=0.001):\n",
    "        self.patience = patience\n",
    "        self.delta = delta\n",
    "        self.best_acc = None  # 改为基于准确率判断\n",
    "        self.counter = 0\n",
    "        self.early_stop = False\n",
    "\n",
    "    def __call__(self, val_acc):\n",
    "        # 若没有找到最佳准确率，或当前准确率比最好的准确率提升超过delta，则更新\n",
    "        if self.best_acc is None or val_acc > self.best_acc + self.delta:\n",
    "            self.best_acc = val_acc\n",
    "            self.counter = 0\n",
    "        else:\n",
    "            self.counter += 1\n",
    "            if self.counter >= self.patience:\n",
    "                self.early_stop = True"
   ]
  },
  {
   "cell_type": "code",
   "execution_count": 4,
   "metadata": {},
   "outputs": [],
   "source": [
    "class StructuredFeatureDataset(Dataset):\n",
    "    def __init__(self, file_path, continue_feature_list, cat_feature_list, hidden_feature_list, target_col='shared_class'):\n",
    "        with open(file_path, 'rb') as f:\n",
    "            df = pickle.load(f)\n",
    "\n",
    "        self.y = torch.tensor(df[target_col].values, dtype=torch.long)\n",
    "\n",
    "        # 连续特征处理\n",
    "        if continue_feature_list:\n",
    "            self.scaler = StandardScaler()\n",
    "            cont_scaled = self.scaler.fit_transform(df[continue_feature_list])\n",
    "            self.cont_feats = torch.tensor(cont_scaled, dtype=torch.float32)\n",
    "        else:\n",
    "            self.cont_feats = torch.zeros((len(df), 0), dtype=torch.float32)\n",
    "\n",
    "        # 类别特征独热编码\n",
    "        if cat_feature_list:\n",
    "            df[cat_feature_list] = df[cat_feature_list].astype(str)\n",
    "            cat_encoded_df = pd.get_dummies(df[cat_feature_list], drop_first=False)\n",
    "            self.cat_feats = torch.tensor(cat_encoded_df.values, dtype=torch.float32)\n",
    "        else:\n",
    "            self.cat_feats = torch.zeros((len(df), 0), dtype=torch.float32)\n",
    "\n",
    "        # 嵌入向量展开\n",
    "        if hidden_feature_list:\n",
    "            hidden_vectors = []\n",
    "            for col in hidden_feature_list:\n",
    "                vecs = df[col].tolist()\n",
    "                hidden_vectors.append(torch.tensor(vecs, dtype=torch.float32))\n",
    "            self.hidden_feats = torch.cat(hidden_vectors, dim=1)\n",
    "        else:\n",
    "            self.hidden_feats = torch.zeros((len(df), 0), dtype=torch.float32)\n",
    "\n",
    "    def __len__(self):\n",
    "        return len(self.y)\n",
    "\n",
    "    def __getitem__(self, idx):\n",
    "        return {\n",
    "            'cont_feat': self.cont_feats[idx],\n",
    "            'cat_feat': self.cat_feats[idx],\n",
    "            'hidden_feat': self.hidden_feats[idx],\n",
    "            'label': self.y[idx]\n",
    "        }\n"
   ]
  },
  {
   "cell_type": "code",
   "execution_count": 5,
   "metadata": {},
   "outputs": [],
   "source": [
    "class StructuredUnifiedBERT(nn.Module):\n",
    "    def __init__(self, cont_input_dim=0, cat_input_dim=0, hidden_input_dim=0, hidden_dim=1024, num_classes=4):\n",
    "        super(StructuredUnifiedBERT, self).__init__()\n",
    "        \n",
    "        config = BertConfig(\n",
    "            hidden_size=hidden_dim,\n",
    "            num_hidden_layers=8,\n",
    "            num_attention_heads=16,\n",
    "            intermediate_size=hidden_dim * 4\n",
    "        )\n",
    "        self.bert = BertModel(config)\n",
    "\n",
    "        if cont_input_dim > 0:\n",
    "            self.cont_linear = nn.Linear(cont_input_dim, hidden_dim)\n",
    "        else:\n",
    "            self.cont_linear = None\n",
    "\n",
    "        if cat_input_dim > 0:\n",
    "            self.cat_linear = nn.Linear(cat_input_dim, hidden_dim)\n",
    "        else:\n",
    "            self.cat_linear = None\n",
    "\n",
    "        if hidden_input_dim > 0:\n",
    "            self.hidden_linear = nn.Linear(hidden_input_dim, hidden_dim)\n",
    "        else:\n",
    "            self.hidden_linear = None\n",
    "\n",
    "        self.cls_token = nn.Parameter(torch.zeros(1, 1, hidden_dim))\n",
    "        \n",
    "        self.classifier = nn.Sequential(\n",
    "            nn.Linear(hidden_dim, hidden_dim // 2),\n",
    "            nn.ReLU(),\n",
    "            nn.Dropout(0.3),\n",
    "            nn.Linear(hidden_dim // 2, hidden_dim // 4),\n",
    "            nn.ReLU(),\n",
    "            nn.Dropout(0.2),\n",
    "            nn.Linear(hidden_dim // 4, num_classes)\n",
    "        )\n",
    "\n",
    "    def forward(self, cont_feat=None, cat_feat=None, hidden_feat=None):\n",
    "        batch_size = cont_feat.shape[0] if cont_feat is not None else \\\n",
    "                     cat_feat.shape[0] if cat_feat is not None else \\\n",
    "                     hidden_feat.shape[0]\n",
    "\n",
    "        token_list = [self.cls_token.expand(batch_size, -1, -1)]\n",
    "        attention_list = [torch.ones(batch_size, 1, device=self.cls_token.device)]\n",
    "\n",
    "        if self.cont_linear and cont_feat is not None:\n",
    "            cont_emb = self.cont_linear(cont_feat).unsqueeze(1)\n",
    "            token_list.append(cont_emb)\n",
    "            attention_list.append(torch.ones(batch_size, 1, device=cont_feat.device))\n",
    "\n",
    "        if self.cat_linear and cat_feat is not None:\n",
    "            cat_emb = self.cat_linear(cat_feat).unsqueeze(1)\n",
    "            token_list.append(cat_emb)\n",
    "            attention_list.append(torch.ones(batch_size, 1, device=cat_feat.device))\n",
    "\n",
    "        if self.hidden_linear and hidden_feat is not None:\n",
    "            hidden_emb = self.hidden_linear(hidden_feat).unsqueeze(1)\n",
    "            token_list.append(hidden_emb)\n",
    "            attention_list.append(torch.ones(batch_size, 1, device=hidden_feat.device))\n",
    "\n",
    "        tokens = torch.cat(token_list, dim=1)  # [B, T, H]\n",
    "        attention_mask = torch.cat(attention_list, dim=1)      # [B, T]\n",
    "\n",
    "        outputs = self.bert(inputs_embeds=tokens, attention_mask=attention_mask, return_dict=True)\n",
    "        cls_output = outputs.last_hidden_state[:, 0, :]  # [CLS]\n",
    "        return self.classifier(cls_output)"
   ]
  },
  {
   "cell_type": "code",
   "execution_count": 21,
   "metadata": {},
   "outputs": [],
   "source": [
    "class StructuredOnlyTrainer:\n",
    "    def __init__(self, dataset: Dataset, batch_size=16):\n",
    "        self.dataset = dataset\n",
    "        self.batch_size = batch_size\n",
    "        self.device = torch.device(\"cuda\" if torch.cuda.is_available() else \"cpu\")\n",
    "\n",
    "    \n",
    "    def count_labels(self, dataset, name=\"\"):\n",
    "        labels = [item['label'].item() for item in dataset]\n",
    "        label_counts = Counter(labels)\n",
    "        print(f\"{name} label distribution: {dict(label_counts)}\")\n",
    "\n",
    "    def prepare_data(self):\n",
    "        train_size = int(0.8 * len(self.dataset))\n",
    "        val_size = int(0.1 * len(self.dataset))\n",
    "        test_size = len(self.dataset) - train_size - val_size\n",
    "\n",
    "        train_dataset, val_dataset, test_dataset = random_split(self.dataset, [train_size, val_size, test_size])\n",
    "\n",
    "        # 保存子集供后续使用\n",
    "        self.train_loader = DataLoader(train_dataset, batch_size=self.batch_size, shuffle=True)\n",
    "        self.val_loader = DataLoader(val_dataset, batch_size=self.batch_size)\n",
    "        self.test_loader = DataLoader(test_dataset, batch_size=self.batch_size)\n",
    "\n",
    "\n",
    "    def train_and_evaluate(self, num_epochs=50):\n",
    "        cont_input_dim = self.dataset.cont_feats.shape[1]\n",
    "        cat_input_dim = self.dataset.cat_feats.shape[1]\n",
    "        hidden_input_dim = self.dataset.hidden_feats.shape[1]\n",
    "\n",
    "        self.model = StructuredUnifiedBERT(\n",
    "            cont_input_dim=cont_input_dim,\n",
    "            cat_input_dim=cat_input_dim,\n",
    "            hidden_input_dim=hidden_input_dim\n",
    "        ).to(self.device)\n",
    "\n",
    "        optimizer = torch.optim.AdamW(self.model.parameters(), lr=2e-5, weight_decay=1e-2)\n",
    "        scheduler = ReduceLROnPlateau(optimizer, mode='max', factor=0.5, patience=2, verbose=True)\n",
    "        criterion = nn.CrossEntropyLoss()\n",
    "        early_stopper = EarlyStopping(patience=5)\n",
    "\n",
    "        best_val_acc = 0\n",
    "        best_model = None\n",
    "\n",
    "        for epoch in range(num_epochs):\n",
    "            self.model.train()\n",
    "            train_preds, train_labels = [], []\n",
    "\n",
    "            for batch in tqdm(self.train_loader, desc=f\"Epoch {epoch}\"):\n",
    "                cont = batch.get('cont_feat', torch.zeros(len(batch['label']), 0)).to(self.device)\n",
    "                cat = batch.get('cat_feat', torch.zeros(len(batch['label']), 0)).to(self.device)\n",
    "                hidden = batch.get('hidden_feat', torch.zeros(len(batch['label']), 0)).to(self.device)\n",
    "                labels = batch['label'].to(self.device)\n",
    "\n",
    "                optimizer.zero_grad()\n",
    "                outputs = self.model(cont, cat, hidden)\n",
    "                loss = criterion(outputs, labels)\n",
    "                loss.backward()\n",
    "                optimizer.step()\n",
    "\n",
    "                train_preds.extend(torch.argmax(outputs, dim=1).cpu().numpy())\n",
    "                train_labels.extend(labels.cpu().numpy())\n",
    "\n",
    "            train_acc = accuracy_score(train_labels, train_preds)\n",
    "            val_acc = self.evaluate(self.val_loader)\n",
    "            test_acc = self.evaluate(self.test_loader)\n",
    "\n",
    "            print(f\"Epoch {epoch} | Train Acc: {train_acc:.4f} | Val Acc: {val_acc:.4f} | Test Acc: {test_acc:.4f}\")\n",
    "            # scheduler.step(test_acc)\n",
    "\n",
    "            if test_acc > best_val_acc:\n",
    "                best_val_acc = test_acc\n",
    "                best_model = copy.deepcopy(self.model.state_dict())\n",
    "\n",
    "            early_stopper(test_acc)\n",
    "            if early_stopper.early_stop:\n",
    "                print(\"Early stopping triggered.\")\n",
    "                break\n",
    "\n",
    "        self.model.load_state_dict(best_model)\n",
    "        # self.final_evaluation(self.val_loader)\n",
    "        self.final_evaluation(self.test_loader)\n",
    "\n",
    "    def evaluate(self, loader):\n",
    "        self.model.eval()\n",
    "        preds, labels = [], []\n",
    "        with torch.no_grad():\n",
    "            for batch in loader:\n",
    "                cont = batch.get('cont_feat', torch.zeros(len(batch['label']), 0)).to(self.device)\n",
    "                cat = batch.get('cat_feat', torch.zeros(len(batch['label']), 0)).to(self.device)\n",
    "                hidden = batch.get('hidden_feat', torch.zeros(len(batch['label']), 0)).to(self.device)\n",
    "                label = batch['label'].to(self.device)\n",
    "                output = self.model(cont, cat, hidden)\n",
    "                preds.extend(torch.argmax(output, dim=1).cpu().numpy())\n",
    "                labels.extend(label.cpu().numpy())\n",
    "        return accuracy_score(labels, preds)\n",
    "\n",
    "    def final_evaluation(self, loader):\n",
    "        self.model.eval()\n",
    "        y_true_final, y_pred_final = [], []\n",
    "        with torch.no_grad():\n",
    "            for batch in loader:\n",
    "                cont = batch.get('cont_feat', torch.zeros(len(batch['label']), 0)).to(self.device)\n",
    "                cat = batch.get('cat_feat', torch.zeros(len(batch['label']), 0)).to(self.device)\n",
    "                hidden = batch.get('hidden_feat', torch.zeros(len(batch['label']), 0)).to(self.device)\n",
    "                labels = batch['label'].to(self.device)\n",
    "                outputs = self.model(cont, cat, hidden)\n",
    "                preds = torch.argmax(outputs, dim=1)\n",
    "                y_true_final.extend(labels.cpu().numpy())\n",
    "                y_pred_final.extend(preds.cpu().numpy())\n",
    "\n",
    "        print(\"\\nFinal Evaluation on Test Set:\")\n",
    "        print(f\"Accuracy:  {accuracy_score(y_true_final, y_pred_final):.4f}\")\n",
    "        print(f\"Precision: {precision_score(y_true_final, y_pred_final, average='weighted'):.4f}\")\n",
    "        print(f\"Recall:    {recall_score(y_true_final, y_pred_final, average='weighted'):.4f}\")\n",
    "        print(f\"F1 Score:  {f1_score(y_true_final, y_pred_final, average='weighted'):.4f}\")\n"
   ]
  },
  {
   "cell_type": "code",
   "execution_count": 17,
   "metadata": {},
   "outputs": [],
   "source": [
    "continue_features = [ \"create_time\", \"follows\", \"fans\", \"content_len\"]\n",
    "\n",
    "cat_features = [ \"gender\", \"sentiment_class\", \"post_day\", \"post_weekday\", \n",
    "                 \"post_month\", \"post_hour\", \"post_minute\"]\n",
    "\n",
    "hidden_features = [\"content_wv_embed\", \"desc_wv_embed\", \n",
    "                    \"content_tfidf\", \"desc_tfidf\", \"embedding\"]"
   ]
  },
  {
   "cell_type": "code",
   "execution_count": 18,
   "metadata": {},
   "outputs": [],
   "source": [
    "dataset = StructuredFeatureDataset(file_path='../data/bert_data.pkl',\n",
    "    continue_feature_list=continue_features,\n",
    "    cat_feature_list=cat_features,\n",
    "    hidden_feature_list=hidden_features)"
   ]
  },
  {
   "cell_type": "code",
   "execution_count": 19,
   "metadata": {},
   "outputs": [],
   "source": [
    "# 传入你的DataFrame（例如叫df）\n",
    "trainer = StructuredOnlyTrainer(dataset)\n",
    "trainer.prepare_data()"
   ]
  },
  {
   "cell_type": "code",
   "execution_count": 20,
   "metadata": {},
   "outputs": [
    {
     "name": "stderr",
     "output_type": "stream",
     "text": [
      "Epoch 0: 100%|██████████| 556/556 [00:09<00:00, 59.48it/s]\n"
     ]
    },
    {
     "name": "stdout",
     "output_type": "stream",
     "text": [
      "Epoch 0 | Train Acc: 0.5574 | Val Acc: 0.6586 | Test Acc: 0.6499\n"
     ]
    },
    {
     "name": "stderr",
     "output_type": "stream",
     "text": [
      "Epoch 1: 100%|██████████| 556/556 [00:09<00:00, 59.82it/s]\n"
     ]
    },
    {
     "name": "stdout",
     "output_type": "stream",
     "text": [
      "Epoch 1 | Train Acc: 0.6429 | Val Acc: 0.6775 | Test Acc: 0.6598\n"
     ]
    },
    {
     "name": "stderr",
     "output_type": "stream",
     "text": [
      "Epoch 2: 100%|██████████| 556/556 [00:09<00:00, 59.69it/s]\n"
     ]
    },
    {
     "name": "stdout",
     "output_type": "stream",
     "text": [
      "Epoch 2 | Train Acc: 0.6850 | Val Acc: 0.7342 | Test Acc: 0.7039\n"
     ]
    },
    {
     "name": "stderr",
     "output_type": "stream",
     "text": [
      "Epoch 3: 100%|██████████| 556/556 [00:09<00:00, 59.63it/s]\n"
     ]
    },
    {
     "name": "stdout",
     "output_type": "stream",
     "text": [
      "Epoch 3 | Train Acc: 0.7161 | Val Acc: 0.7162 | Test Acc: 0.6814\n"
     ]
    },
    {
     "name": "stderr",
     "output_type": "stream",
     "text": [
      "Epoch 4: 100%|██████████| 556/556 [00:09<00:00, 59.55it/s]\n"
     ]
    },
    {
     "name": "stdout",
     "output_type": "stream",
     "text": [
      "Epoch 4 | Train Acc: 0.7432 | Val Acc: 0.7171 | Test Acc: 0.7039\n"
     ]
    },
    {
     "name": "stderr",
     "output_type": "stream",
     "text": [
      "Epoch 5: 100%|██████████| 556/556 [00:09<00:00, 59.50it/s]\n"
     ]
    },
    {
     "name": "stdout",
     "output_type": "stream",
     "text": [
      "Epoch 5 | Train Acc: 0.7604 | Val Acc: 0.7369 | Test Acc: 0.7498\n"
     ]
    },
    {
     "name": "stderr",
     "output_type": "stream",
     "text": [
      "Epoch 6: 100%|██████████| 556/556 [00:09<00:00, 59.47it/s]\n"
     ]
    },
    {
     "name": "stdout",
     "output_type": "stream",
     "text": [
      "Epoch 6 | Train Acc: 0.7920 | Val Acc: 0.7369 | Test Acc: 0.7624\n"
     ]
    },
    {
     "name": "stderr",
     "output_type": "stream",
     "text": [
      "Epoch 7: 100%|██████████| 556/556 [00:09<00:00, 59.48it/s]\n"
     ]
    },
    {
     "name": "stdout",
     "output_type": "stream",
     "text": [
      "Epoch 7 | Train Acc: 0.8166 | Val Acc: 0.7559 | Test Acc: 0.7624\n"
     ]
    },
    {
     "name": "stderr",
     "output_type": "stream",
     "text": [
      "Epoch 8: 100%|██████████| 556/556 [00:09<00:00, 59.48it/s]\n"
     ]
    },
    {
     "name": "stdout",
     "output_type": "stream",
     "text": [
      "Epoch 8 | Train Acc: 0.8377 | Val Acc: 0.7477 | Test Acc: 0.7777\n"
     ]
    },
    {
     "name": "stderr",
     "output_type": "stream",
     "text": [
      "Epoch 9: 100%|██████████| 556/556 [00:09<00:00, 59.46it/s]\n"
     ]
    },
    {
     "name": "stdout",
     "output_type": "stream",
     "text": [
      "Epoch 9 | Train Acc: 0.8574 | Val Acc: 0.7369 | Test Acc: 0.7435\n"
     ]
    },
    {
     "name": "stderr",
     "output_type": "stream",
     "text": [
      "Epoch 10: 100%|██████████| 556/556 [00:09<00:00, 59.44it/s]\n"
     ]
    },
    {
     "name": "stdout",
     "output_type": "stream",
     "text": [
      "Epoch 10 | Train Acc: 0.8740 | Val Acc: 0.7468 | Test Acc: 0.7678\n"
     ]
    },
    {
     "name": "stderr",
     "output_type": "stream",
     "text": [
      "Epoch 11: 100%|██████████| 556/556 [00:09<00:00, 59.42it/s]\n"
     ]
    },
    {
     "name": "stdout",
     "output_type": "stream",
     "text": [
      "Epoch 11 | Train Acc: 0.8915 | Val Acc: 0.7405 | Test Acc: 0.7597\n"
     ]
    },
    {
     "name": "stderr",
     "output_type": "stream",
     "text": [
      "Epoch 12: 100%|██████████| 556/556 [00:09<00:00, 59.41it/s]\n"
     ]
    },
    {
     "name": "stdout",
     "output_type": "stream",
     "text": [
      "Epoch 12 | Train Acc: 0.9063 | Val Acc: 0.7486 | Test Acc: 0.7471\n"
     ]
    },
    {
     "name": "stderr",
     "output_type": "stream",
     "text": [
      "Epoch 13: 100%|██████████| 556/556 [00:09<00:00, 59.44it/s]\n"
     ]
    },
    {
     "name": "stdout",
     "output_type": "stream",
     "text": [
      "Epoch 13 | Train Acc: 0.9185 | Val Acc: 0.7658 | Test Acc: 0.7903\n"
     ]
    },
    {
     "name": "stderr",
     "output_type": "stream",
     "text": [
      "Epoch 14: 100%|██████████| 556/556 [00:09<00:00, 59.45it/s]\n"
     ]
    },
    {
     "name": "stdout",
     "output_type": "stream",
     "text": [
      "Epoch 14 | Train Acc: 0.9289 | Val Acc: 0.7604 | Test Acc: 0.7759\n"
     ]
    },
    {
     "name": "stderr",
     "output_type": "stream",
     "text": [
      "Epoch 15: 100%|██████████| 556/556 [00:09<00:00, 59.44it/s]\n"
     ]
    },
    {
     "name": "stdout",
     "output_type": "stream",
     "text": [
      "Epoch 15 | Train Acc: 0.9331 | Val Acc: 0.7171 | Test Acc: 0.7417\n"
     ]
    },
    {
     "name": "stderr",
     "output_type": "stream",
     "text": [
      "Epoch 16: 100%|██████████| 556/556 [00:09<00:00, 59.44it/s]\n"
     ]
    },
    {
     "name": "stdout",
     "output_type": "stream",
     "text": [
      "Epoch 16 | Train Acc: 0.9469 | Val Acc: 0.7820 | Test Acc: 0.7723\n"
     ]
    },
    {
     "name": "stderr",
     "output_type": "stream",
     "text": [
      "Epoch 17: 100%|██████████| 556/556 [00:09<00:00, 59.41it/s]\n"
     ]
    },
    {
     "name": "stdout",
     "output_type": "stream",
     "text": [
      "Epoch 17 | Train Acc: 0.9509 | Val Acc: 0.7694 | Test Acc: 0.7732\n"
     ]
    },
    {
     "name": "stderr",
     "output_type": "stream",
     "text": [
      "Epoch 18: 100%|██████████| 556/556 [00:09<00:00, 59.45it/s]\n"
     ]
    },
    {
     "name": "stdout",
     "output_type": "stream",
     "text": [
      "Epoch 18 | Train Acc: 0.9544 | Val Acc: 0.7694 | Test Acc: 0.7876\n",
      "Early stopping triggered.\n",
      "\n",
      "Final Evaluation on Test Set:\n",
      "Accuracy:  0.7658\n",
      "Precision: 0.7651\n",
      "Recall:    0.7658\n",
      "F1 Score:  0.7654\n",
      "\n",
      "Final Evaluation on Test Set:\n",
      "Accuracy:  0.7903\n",
      "Precision: 0.7895\n",
      "Recall:    0.7903\n",
      "F1 Score:  0.7895\n"
     ]
    }
   ],
   "source": [
    "trainer.train_and_evaluate()"
   ]
  },
  {
   "cell_type": "code",
   "execution_count": 23,
   "metadata": {},
   "outputs": [
    {
     "name": "stderr",
     "output_type": "stream",
     "text": [
      "Epoch 0: 100%|██████████| 556/556 [00:09<00:00, 60.61it/s]\n"
     ]
    },
    {
     "name": "stdout",
     "output_type": "stream",
     "text": [
      "Epoch 0 | Train Acc: 0.5664 | Val Acc: 0.6441 | Test Acc: 0.6382\n"
     ]
    },
    {
     "name": "stderr",
     "output_type": "stream",
     "text": [
      "Epoch 1: 100%|██████████| 556/556 [00:09<00:00, 60.41it/s]\n"
     ]
    },
    {
     "name": "stdout",
     "output_type": "stream",
     "text": [
      "Epoch 1 | Train Acc: 0.6503 | Val Acc: 0.6658 | Test Acc: 0.6607\n"
     ]
    },
    {
     "name": "stderr",
     "output_type": "stream",
     "text": [
      "Epoch 2: 100%|██████████| 556/556 [00:09<00:00, 60.33it/s]\n"
     ]
    },
    {
     "name": "stdout",
     "output_type": "stream",
     "text": [
      "Epoch 2 | Train Acc: 0.6792 | Val Acc: 0.6802 | Test Acc: 0.6913\n"
     ]
    },
    {
     "name": "stderr",
     "output_type": "stream",
     "text": [
      "Epoch 3: 100%|██████████| 556/556 [00:09<00:00, 60.31it/s]\n"
     ]
    },
    {
     "name": "stdout",
     "output_type": "stream",
     "text": [
      "Epoch 3 | Train Acc: 0.6999 | Val Acc: 0.7000 | Test Acc: 0.7147\n"
     ]
    },
    {
     "name": "stderr",
     "output_type": "stream",
     "text": [
      "Epoch 4: 100%|██████████| 556/556 [00:09<00:00, 60.35it/s]\n"
     ]
    },
    {
     "name": "stdout",
     "output_type": "stream",
     "text": [
      "Epoch 4 | Train Acc: 0.7197 | Val Acc: 0.7216 | Test Acc: 0.7318\n"
     ]
    },
    {
     "name": "stderr",
     "output_type": "stream",
     "text": [
      "Epoch 5: 100%|██████████| 556/556 [00:09<00:00, 60.36it/s]\n"
     ]
    },
    {
     "name": "stdout",
     "output_type": "stream",
     "text": [
      "Epoch 5 | Train Acc: 0.7476 | Val Acc: 0.7288 | Test Acc: 0.7138\n"
     ]
    },
    {
     "name": "stderr",
     "output_type": "stream",
     "text": [
      "Epoch 6: 100%|██████████| 556/556 [00:09<00:00, 60.34it/s]\n"
     ]
    },
    {
     "name": "stdout",
     "output_type": "stream",
     "text": [
      "Epoch 6 | Train Acc: 0.7710 | Val Acc: 0.7333 | Test Acc: 0.7471\n"
     ]
    },
    {
     "name": "stderr",
     "output_type": "stream",
     "text": [
      "Epoch 7: 100%|██████████| 556/556 [00:09<00:00, 60.31it/s]\n"
     ]
    },
    {
     "name": "stdout",
     "output_type": "stream",
     "text": [
      "Epoch 7 | Train Acc: 0.7941 | Val Acc: 0.7378 | Test Acc: 0.7417\n"
     ]
    },
    {
     "name": "stderr",
     "output_type": "stream",
     "text": [
      "Epoch 8: 100%|██████████| 556/556 [00:09<00:00, 60.26it/s]\n"
     ]
    },
    {
     "name": "stdout",
     "output_type": "stream",
     "text": [
      "Epoch 8 | Train Acc: 0.8078 | Val Acc: 0.7261 | Test Acc: 0.7183\n"
     ]
    },
    {
     "name": "stderr",
     "output_type": "stream",
     "text": [
      "Epoch 9: 100%|██████████| 556/556 [00:09<00:00, 60.26it/s]\n"
     ]
    },
    {
     "name": "stdout",
     "output_type": "stream",
     "text": [
      "Epoch 9 | Train Acc: 0.8323 | Val Acc: 0.7414 | Test Acc: 0.7507\n"
     ]
    },
    {
     "name": "stderr",
     "output_type": "stream",
     "text": [
      "Epoch 10: 100%|██████████| 556/556 [00:09<00:00, 60.28it/s]\n"
     ]
    },
    {
     "name": "stdout",
     "output_type": "stream",
     "text": [
      "Epoch 10 | Train Acc: 0.8418 | Val Acc: 0.7333 | Test Acc: 0.7363\n"
     ]
    },
    {
     "name": "stderr",
     "output_type": "stream",
     "text": [
      "Epoch 11: 100%|██████████| 556/556 [00:09<00:00, 60.29it/s]\n"
     ]
    },
    {
     "name": "stdout",
     "output_type": "stream",
     "text": [
      "Epoch 11 | Train Acc: 0.8634 | Val Acc: 0.7486 | Test Acc: 0.7498\n"
     ]
    },
    {
     "name": "stderr",
     "output_type": "stream",
     "text": [
      "Epoch 12: 100%|██████████| 556/556 [00:09<00:00, 60.26it/s]\n"
     ]
    },
    {
     "name": "stdout",
     "output_type": "stream",
     "text": [
      "Epoch 12 | Train Acc: 0.8633 | Val Acc: 0.7180 | Test Acc: 0.7282\n"
     ]
    },
    {
     "name": "stderr",
     "output_type": "stream",
     "text": [
      "Epoch 13: 100%|██████████| 556/556 [00:09<00:00, 60.29it/s]\n"
     ]
    },
    {
     "name": "stdout",
     "output_type": "stream",
     "text": [
      "Epoch 13 | Train Acc: 0.8786 | Val Acc: 0.7189 | Test Acc: 0.7300\n"
     ]
    },
    {
     "name": "stderr",
     "output_type": "stream",
     "text": [
      "Epoch 14: 100%|██████████| 556/556 [00:09<00:00, 60.21it/s]\n"
     ]
    },
    {
     "name": "stdout",
     "output_type": "stream",
     "text": [
      "Epoch 14 | Train Acc: 0.8882 | Val Acc: 0.7279 | Test Acc: 0.7444\n",
      "Early stopping triggered.\n",
      "\n",
      "Final Evaluation on Test Set:\n",
      "Accuracy:  0.7507\n",
      "Precision: 0.7526\n",
      "Recall:    0.7507\n",
      "F1 Score:  0.7500\n"
     ]
    }
   ],
   "source": [
    "continue_features = [ \"create_time\", \"follows\", \"fans\", \"content_len\"]\n",
    "\n",
    "cat_features = []\n",
    "\n",
    "# 没有类别特征\n",
    "\n",
    "hidden_features = [\"content_wv_embed\", \"desc_wv_embed\", \n",
    "                    \"content_tfidf\", \"desc_tfidf\", \"embedding\"]\n",
    "\n",
    "dataset = StructuredFeatureDataset(file_path='../data/bert_data.pkl',\n",
    "    continue_feature_list=continue_features,\n",
    "    cat_feature_list=cat_features,\n",
    "    hidden_feature_list=hidden_features)\n",
    "trainer = StructuredOnlyTrainer(dataset)\n",
    "trainer.prepare_data()\n",
    "trainer.train_and_evaluate()"
   ]
  },
  {
   "cell_type": "code",
   "execution_count": 24,
   "metadata": {},
   "outputs": [
    {
     "name": "stderr",
     "output_type": "stream",
     "text": [
      "Epoch 0: 100%|██████████| 556/556 [00:09<00:00, 60.44it/s]\n"
     ]
    },
    {
     "name": "stdout",
     "output_type": "stream",
     "text": [
      "Epoch 0 | Train Acc: 0.5193 | Val Acc: 0.5982 | Test Acc: 0.5689\n"
     ]
    },
    {
     "name": "stderr",
     "output_type": "stream",
     "text": [
      "Epoch 1: 100%|██████████| 556/556 [00:09<00:00, 60.40it/s]\n"
     ]
    },
    {
     "name": "stdout",
     "output_type": "stream",
     "text": [
      "Epoch 1 | Train Acc: 0.5731 | Val Acc: 0.6000 | Test Acc: 0.5806\n"
     ]
    },
    {
     "name": "stderr",
     "output_type": "stream",
     "text": [
      "Epoch 2: 100%|██████████| 556/556 [00:09<00:00, 60.28it/s]\n"
     ]
    },
    {
     "name": "stdout",
     "output_type": "stream",
     "text": [
      "Epoch 2 | Train Acc: 0.6024 | Val Acc: 0.6180 | Test Acc: 0.6049\n"
     ]
    },
    {
     "name": "stderr",
     "output_type": "stream",
     "text": [
      "Epoch 3: 100%|██████████| 556/556 [00:09<00:00, 60.61it/s]\n"
     ]
    },
    {
     "name": "stdout",
     "output_type": "stream",
     "text": [
      "Epoch 3 | Train Acc: 0.6321 | Val Acc: 0.6459 | Test Acc: 0.6409\n"
     ]
    },
    {
     "name": "stderr",
     "output_type": "stream",
     "text": [
      "Epoch 4: 100%|██████████| 556/556 [00:09<00:00, 60.54it/s]\n"
     ]
    },
    {
     "name": "stdout",
     "output_type": "stream",
     "text": [
      "Epoch 4 | Train Acc: 0.6547 | Val Acc: 0.6568 | Test Acc: 0.6688\n"
     ]
    },
    {
     "name": "stderr",
     "output_type": "stream",
     "text": [
      "Epoch 5: 100%|██████████| 556/556 [00:09<00:00, 60.52it/s]\n"
     ]
    },
    {
     "name": "stdout",
     "output_type": "stream",
     "text": [
      "Epoch 5 | Train Acc: 0.6733 | Val Acc: 0.6838 | Test Acc: 0.6787\n"
     ]
    },
    {
     "name": "stderr",
     "output_type": "stream",
     "text": [
      "Epoch 6: 100%|██████████| 556/556 [00:09<00:00, 60.49it/s]\n"
     ]
    },
    {
     "name": "stdout",
     "output_type": "stream",
     "text": [
      "Epoch 6 | Train Acc: 0.6959 | Val Acc: 0.6766 | Test Acc: 0.6598\n"
     ]
    },
    {
     "name": "stderr",
     "output_type": "stream",
     "text": [
      "Epoch 7: 100%|██████████| 556/556 [00:09<00:00, 60.47it/s]\n"
     ]
    },
    {
     "name": "stdout",
     "output_type": "stream",
     "text": [
      "Epoch 7 | Train Acc: 0.7145 | Val Acc: 0.6928 | Test Acc: 0.7021\n"
     ]
    },
    {
     "name": "stderr",
     "output_type": "stream",
     "text": [
      "Epoch 8: 100%|██████████| 556/556 [00:09<00:00, 60.54it/s]\n"
     ]
    },
    {
     "name": "stdout",
     "output_type": "stream",
     "text": [
      "Epoch 8 | Train Acc: 0.7322 | Val Acc: 0.7000 | Test Acc: 0.6949\n"
     ]
    },
    {
     "name": "stderr",
     "output_type": "stream",
     "text": [
      "Epoch 9: 100%|██████████| 556/556 [00:09<00:00, 60.52it/s]\n"
     ]
    },
    {
     "name": "stdout",
     "output_type": "stream",
     "text": [
      "Epoch 9 | Train Acc: 0.7538 | Val Acc: 0.7135 | Test Acc: 0.6976\n"
     ]
    },
    {
     "name": "stderr",
     "output_type": "stream",
     "text": [
      "Epoch 10: 100%|██████████| 556/556 [00:09<00:00, 60.53it/s]\n"
     ]
    },
    {
     "name": "stdout",
     "output_type": "stream",
     "text": [
      "Epoch 10 | Train Acc: 0.7719 | Val Acc: 0.6964 | Test Acc: 0.6823\n"
     ]
    },
    {
     "name": "stderr",
     "output_type": "stream",
     "text": [
      "Epoch 11: 100%|██████████| 556/556 [00:09<00:00, 60.51it/s]\n"
     ]
    },
    {
     "name": "stdout",
     "output_type": "stream",
     "text": [
      "Epoch 11 | Train Acc: 0.7855 | Val Acc: 0.7099 | Test Acc: 0.7129\n"
     ]
    },
    {
     "name": "stderr",
     "output_type": "stream",
     "text": [
      "Epoch 12: 100%|██████████| 556/556 [00:09<00:00, 60.54it/s]\n"
     ]
    },
    {
     "name": "stdout",
     "output_type": "stream",
     "text": [
      "Epoch 12 | Train Acc: 0.7966 | Val Acc: 0.7369 | Test Acc: 0.7192\n"
     ]
    },
    {
     "name": "stderr",
     "output_type": "stream",
     "text": [
      "Epoch 13: 100%|██████████| 556/556 [00:09<00:00, 60.56it/s]\n"
     ]
    },
    {
     "name": "stdout",
     "output_type": "stream",
     "text": [
      "Epoch 13 | Train Acc: 0.8108 | Val Acc: 0.7315 | Test Acc: 0.7201\n"
     ]
    },
    {
     "name": "stderr",
     "output_type": "stream",
     "text": [
      "Epoch 14: 100%|██████████| 556/556 [00:09<00:00, 60.54it/s]\n"
     ]
    },
    {
     "name": "stdout",
     "output_type": "stream",
     "text": [
      "Epoch 14 | Train Acc: 0.8247 | Val Acc: 0.7108 | Test Acc: 0.7219\n"
     ]
    },
    {
     "name": "stderr",
     "output_type": "stream",
     "text": [
      "Epoch 15: 100%|██████████| 556/556 [00:09<00:00, 60.59it/s]\n"
     ]
    },
    {
     "name": "stdout",
     "output_type": "stream",
     "text": [
      "Epoch 15 | Train Acc: 0.8315 | Val Acc: 0.7162 | Test Acc: 0.7120\n"
     ]
    },
    {
     "name": "stderr",
     "output_type": "stream",
     "text": [
      "Epoch 16: 100%|██████████| 556/556 [00:09<00:00, 60.55it/s]\n"
     ]
    },
    {
     "name": "stdout",
     "output_type": "stream",
     "text": [
      "Epoch 16 | Train Acc: 0.8473 | Val Acc: 0.7450 | Test Acc: 0.7165\n"
     ]
    },
    {
     "name": "stderr",
     "output_type": "stream",
     "text": [
      "Epoch 17: 100%|██████████| 556/556 [00:09<00:00, 60.46it/s]\n"
     ]
    },
    {
     "name": "stdout",
     "output_type": "stream",
     "text": [
      "Epoch 17 | Train Acc: 0.8539 | Val Acc: 0.7423 | Test Acc: 0.7399\n"
     ]
    },
    {
     "name": "stderr",
     "output_type": "stream",
     "text": [
      "Epoch 18: 100%|██████████| 556/556 [00:09<00:00, 60.58it/s]\n"
     ]
    },
    {
     "name": "stdout",
     "output_type": "stream",
     "text": [
      "Epoch 18 | Train Acc: 0.8689 | Val Acc: 0.7117 | Test Acc: 0.7174\n"
     ]
    },
    {
     "name": "stderr",
     "output_type": "stream",
     "text": [
      "Epoch 19: 100%|██████████| 556/556 [00:09<00:00, 60.56it/s]\n"
     ]
    },
    {
     "name": "stdout",
     "output_type": "stream",
     "text": [
      "Epoch 19 | Train Acc: 0.8744 | Val Acc: 0.7324 | Test Acc: 0.7192\n"
     ]
    },
    {
     "name": "stderr",
     "output_type": "stream",
     "text": [
      "Epoch 20: 100%|██████████| 556/556 [00:09<00:00, 60.62it/s]\n"
     ]
    },
    {
     "name": "stdout",
     "output_type": "stream",
     "text": [
      "Epoch 20 | Train Acc: 0.8807 | Val Acc: 0.7288 | Test Acc: 0.7345\n"
     ]
    },
    {
     "name": "stderr",
     "output_type": "stream",
     "text": [
      "Epoch 21: 100%|██████████| 556/556 [00:09<00:00, 60.54it/s]\n"
     ]
    },
    {
     "name": "stdout",
     "output_type": "stream",
     "text": [
      "Epoch 21 | Train Acc: 0.8914 | Val Acc: 0.7405 | Test Acc: 0.7318\n"
     ]
    },
    {
     "name": "stderr",
     "output_type": "stream",
     "text": [
      "Epoch 22: 100%|██████████| 556/556 [00:09<00:00, 60.51it/s]\n"
     ]
    },
    {
     "name": "stdout",
     "output_type": "stream",
     "text": [
      "Epoch 22 | Train Acc: 0.9007 | Val Acc: 0.7252 | Test Acc: 0.7336\n",
      "Early stopping triggered.\n",
      "\n",
      "Final Evaluation on Test Set:\n",
      "Accuracy:  0.7399\n",
      "Precision: 0.7413\n",
      "Recall:    0.7399\n",
      "F1 Score:  0.7401\n"
     ]
    }
   ],
   "source": [
    "continue_features = [ \"create_time\", \"follows\", \"fans\", \"content_len\"]\n",
    "\n",
    "cat_features = [ \"gender\", \"sentiment_class\", \"post_day\", \"post_weekday\", \n",
    "                 \"post_month\", \"post_hour\", \"post_minute\"]\n",
    "\n",
    "# 没有文本特征\n",
    "hidden_features = []\n",
    "\n",
    "dataset = StructuredFeatureDataset(file_path='../data/bert_data.pkl',\n",
    "    continue_feature_list=continue_features,\n",
    "    cat_feature_list=cat_features,\n",
    "    hidden_feature_list=hidden_features)\n",
    "trainer = StructuredOnlyTrainer(dataset)\n",
    "trainer.prepare_data()\n",
    "trainer.train_and_evaluate()"
   ]
  },
  {
   "cell_type": "code",
   "execution_count": 25,
   "metadata": {},
   "outputs": [
    {
     "name": "stderr",
     "output_type": "stream",
     "text": [
      "Epoch 0: 100%|██████████| 556/556 [00:09<00:00, 60.20it/s]\n"
     ]
    },
    {
     "name": "stdout",
     "output_type": "stream",
     "text": [
      "Epoch 0 | Train Acc: 0.5149 | Val Acc: 0.6063 | Test Acc: 0.5680\n"
     ]
    },
    {
     "name": "stderr",
     "output_type": "stream",
     "text": [
      "Epoch 1: 100%|██████████| 556/556 [00:09<00:00, 60.15it/s]\n"
     ]
    },
    {
     "name": "stdout",
     "output_type": "stream",
     "text": [
      "Epoch 1 | Train Acc: 0.6178 | Val Acc: 0.6387 | Test Acc: 0.6049\n"
     ]
    },
    {
     "name": "stderr",
     "output_type": "stream",
     "text": [
      "Epoch 2: 100%|██████████| 556/556 [00:09<00:00, 60.02it/s]\n"
     ]
    },
    {
     "name": "stdout",
     "output_type": "stream",
     "text": [
      "Epoch 2 | Train Acc: 0.6525 | Val Acc: 0.6162 | Test Acc: 0.5986\n"
     ]
    },
    {
     "name": "stderr",
     "output_type": "stream",
     "text": [
      "Epoch 3: 100%|██████████| 556/556 [00:09<00:00, 60.20it/s]\n"
     ]
    },
    {
     "name": "stdout",
     "output_type": "stream",
     "text": [
      "Epoch 3 | Train Acc: 0.6892 | Val Acc: 0.6162 | Test Acc: 0.6148\n"
     ]
    },
    {
     "name": "stderr",
     "output_type": "stream",
     "text": [
      "Epoch 4: 100%|██████████| 556/556 [00:09<00:00, 60.21it/s]\n"
     ]
    },
    {
     "name": "stdout",
     "output_type": "stream",
     "text": [
      "Epoch 4 | Train Acc: 0.7146 | Val Acc: 0.6757 | Test Acc: 0.6805\n"
     ]
    },
    {
     "name": "stderr",
     "output_type": "stream",
     "text": [
      "Epoch 5: 100%|██████████| 556/556 [00:09<00:00, 60.14it/s]\n"
     ]
    },
    {
     "name": "stdout",
     "output_type": "stream",
     "text": [
      "Epoch 5 | Train Acc: 0.7531 | Val Acc: 0.6910 | Test Acc: 0.6877\n"
     ]
    },
    {
     "name": "stderr",
     "output_type": "stream",
     "text": [
      "Epoch 6: 100%|██████████| 556/556 [00:09<00:00, 60.11it/s]\n"
     ]
    },
    {
     "name": "stdout",
     "output_type": "stream",
     "text": [
      "Epoch 6 | Train Acc: 0.7868 | Val Acc: 0.6982 | Test Acc: 0.7021\n"
     ]
    },
    {
     "name": "stderr",
     "output_type": "stream",
     "text": [
      "Epoch 7: 100%|██████████| 556/556 [00:09<00:00, 60.17it/s]\n"
     ]
    },
    {
     "name": "stdout",
     "output_type": "stream",
     "text": [
      "Epoch 7 | Train Acc: 0.8168 | Val Acc: 0.7027 | Test Acc: 0.7021\n"
     ]
    },
    {
     "name": "stderr",
     "output_type": "stream",
     "text": [
      "Epoch 8: 100%|██████████| 556/556 [00:09<00:00, 60.13it/s]\n"
     ]
    },
    {
     "name": "stdout",
     "output_type": "stream",
     "text": [
      "Epoch 8 | Train Acc: 0.8362 | Val Acc: 0.7126 | Test Acc: 0.7264\n"
     ]
    },
    {
     "name": "stderr",
     "output_type": "stream",
     "text": [
      "Epoch 9: 100%|██████████| 556/556 [00:09<00:00, 59.98it/s]\n"
     ]
    },
    {
     "name": "stdout",
     "output_type": "stream",
     "text": [
      "Epoch 9 | Train Acc: 0.8651 | Val Acc: 0.7126 | Test Acc: 0.7363\n"
     ]
    },
    {
     "name": "stderr",
     "output_type": "stream",
     "text": [
      "Epoch 10: 100%|██████████| 556/556 [00:09<00:00, 60.12it/s]\n"
     ]
    },
    {
     "name": "stdout",
     "output_type": "stream",
     "text": [
      "Epoch 10 | Train Acc: 0.8828 | Val Acc: 0.7306 | Test Acc: 0.7516\n"
     ]
    },
    {
     "name": "stderr",
     "output_type": "stream",
     "text": [
      "Epoch 11: 100%|██████████| 556/556 [00:09<00:00, 60.19it/s]\n"
     ]
    },
    {
     "name": "stdout",
     "output_type": "stream",
     "text": [
      "Epoch 11 | Train Acc: 0.8949 | Val Acc: 0.7189 | Test Acc: 0.7264\n"
     ]
    },
    {
     "name": "stderr",
     "output_type": "stream",
     "text": [
      "Epoch 12: 100%|██████████| 556/556 [00:09<00:00, 60.16it/s]\n"
     ]
    },
    {
     "name": "stdout",
     "output_type": "stream",
     "text": [
      "Epoch 12 | Train Acc: 0.9093 | Val Acc: 0.7171 | Test Acc: 0.7318\n"
     ]
    },
    {
     "name": "stderr",
     "output_type": "stream",
     "text": [
      "Epoch 13: 100%|██████████| 556/556 [00:09<00:00, 60.16it/s]\n"
     ]
    },
    {
     "name": "stdout",
     "output_type": "stream",
     "text": [
      "Epoch 13 | Train Acc: 0.9242 | Val Acc: 0.7171 | Test Acc: 0.7345\n"
     ]
    },
    {
     "name": "stderr",
     "output_type": "stream",
     "text": [
      "Epoch 14: 100%|██████████| 556/556 [00:09<00:00, 60.11it/s]\n"
     ]
    },
    {
     "name": "stdout",
     "output_type": "stream",
     "text": [
      "Epoch 14 | Train Acc: 0.9385 | Val Acc: 0.7351 | Test Acc: 0.7210\n"
     ]
    },
    {
     "name": "stderr",
     "output_type": "stream",
     "text": [
      "Epoch 15: 100%|██████████| 556/556 [00:09<00:00, 60.13it/s]\n"
     ]
    },
    {
     "name": "stdout",
     "output_type": "stream",
     "text": [
      "Epoch 15 | Train Acc: 0.9415 | Val Acc: 0.7216 | Test Acc: 0.7237\n",
      "Early stopping triggered.\n",
      "\n",
      "Final Evaluation on Test Set:\n",
      "Accuracy:  0.7516\n",
      "Precision: 0.7542\n",
      "Recall:    0.7516\n",
      "F1 Score:  0.7523\n"
     ]
    }
   ],
   "source": [
    "# 没有数值特征\n",
    "continue_features = []\n",
    "\n",
    "cat_features = [ \"gender\", \"sentiment_class\", \"post_day\", \"post_weekday\", \n",
    "                 \"post_month\", \"post_hour\", \"post_minute\"]\n",
    "\n",
    "# 没有文本特征\n",
    "hidden_features = [\"content_wv_embed\", \"desc_wv_embed\", \n",
    "                    \"content_tfidf\", \"desc_tfidf\", \"embedding\"]\n",
    "\n",
    "dataset = StructuredFeatureDataset(file_path='../data/bert_data.pkl',\n",
    "    continue_feature_list=continue_features,\n",
    "    cat_feature_list=cat_features,\n",
    "    hidden_feature_list=hidden_features)\n",
    "trainer = StructuredOnlyTrainer(dataset)\n",
    "trainer.prepare_data()\n",
    "trainer.train_and_evaluate()"
   ]
  },
  {
   "cell_type": "code",
   "execution_count": null,
   "metadata": {},
   "outputs": [],
   "source": []
  }
 ],
 "metadata": {
  "kernelspec": {
   "display_name": "trasformers",
   "language": "python",
   "name": "python3"
  },
  "language_info": {
   "codemirror_mode": {
    "name": "ipython",
    "version": 3
   },
   "file_extension": ".py",
   "mimetype": "text/x-python",
   "name": "python",
   "nbconvert_exporter": "python",
   "pygments_lexer": "ipython3",
   "version": "3.9.21"
  }
 },
 "nbformat": 4,
 "nbformat_minor": 2
}
